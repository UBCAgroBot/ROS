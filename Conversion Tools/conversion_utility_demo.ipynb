{
 "cells": [
  {
   "cell_type": "code",
   "execution_count": 1,
   "metadata": {},
   "outputs": [
    {
     "name": "stdout",
     "output_type": "stream",
     "text": [
      "WARNING:tensorflow:From c:\\Users\\Valery\\miniconda3\\envs\\cpsc330\\lib\\site-packages\\keras\\src\\losses.py:2976: The name tf.losses.sparse_softmax_cross_entropy is deprecated. Please use tf.compat.v1.losses.sparse_softmax_cross_entropy instead.\n",
      "\n",
      "WARNING:tensorflow:From c:\\Users\\Valery\\miniconda3\\envs\\cpsc330\\lib\\site-packages\\tf2onnx\\tf_loader.py:68: The name tf.reset_default_graph is deprecated. Please use tf.compat.v1.reset_default_graph instead.\n",
      "\n",
      "WARNING:tensorflow:From c:\\Users\\Valery\\miniconda3\\envs\\cpsc330\\lib\\site-packages\\tf2onnx\\tf_loader.py:72: The name tf.train.import_meta_graph is deprecated. Please use tf.compat.v1.train.import_meta_graph instead.\n",
      "\n"
     ]
    }
   ],
   "source": [
    "import tensorflow as tf\n",
    "import numpy as np\n",
    "\n",
    "import sys\n",
    "sys.path.append('./../../utils')\n",
    "import model_conversion_tools as mct\n",
    "from sample_pytorch_mnist import Net, train, test"
   ]
  },
  {
   "cell_type": "markdown",
   "metadata": {},
   "source": [
    "### Part 1: sample Tensorflow project\n",
    "\n",
    "sample project from our yolo test model"
   ]
  },
  {
   "cell_type": "code",
   "execution_count": 2,
   "metadata": {},
   "outputs": [],
   "source": [
    "# Step 1: Load and Preprocess Fashion MNIST Data\n",
    "(x_train, y_train), (x_test, y_test) = tf.keras.datasets.fashion_mnist.load_data()\n",
    "# Preprocess x_test\n",
    "x_test = x_test.reshape((10000, 28, 28, 1)).astype('float32') / 255\n"
   ]
  },
  {
   "cell_type": "markdown",
   "metadata": {},
   "source": [
    "#### training a sample tensorflow model:\n",
    "\n",
    "To get the model for this example, feel free to look at https://github.com/UBCAgroBot/AppliedAI/blob/13-conversion-tools/23-I-12_SysArch/Test%20Models/YOLO_testmodel.py "
   ]
  },
  {
   "cell_type": "markdown",
   "metadata": {},
   "source": [
    "#### loading the model, converting to onnx and saving the model"
   ]
  },
  {
   "cell_type": "code",
   "execution_count": 3,
   "metadata": {},
   "outputs": [
    {
     "name": "stdout",
     "output_type": "stream",
     "text": [
      "WARNING:tensorflow:From c:\\Users\\Valery\\miniconda3\\envs\\cpsc330\\lib\\site-packages\\keras\\src\\backend.py:1398: The name tf.executing_eagerly_outside_functions is deprecated. Please use tf.compat.v1.executing_eagerly_outside_functions instead.\n",
      "\n",
      "WARNING:tensorflow:From c:\\Users\\Valery\\miniconda3\\envs\\cpsc330\\lib\\site-packages\\keras\\src\\layers\\pooling\\max_pooling2d.py:161: The name tf.nn.max_pool is deprecated. Please use tf.nn.max_pool2d instead.\n",
      "\n"
     ]
    },
    {
     "name": "stderr",
     "output_type": "stream",
     "text": [
      "c:\\Users\\Valery\\miniconda3\\envs\\cpsc330\\lib\\site-packages\\onnxruntime\\capi\\onnxruntime_inference_collection.py:69: UserWarning: Specified provider 'CUDAExecutionProvider' is not in available provider names.Available providers: 'AzureExecutionProvider, CPUExecutionProvider'\n",
      "  warnings.warn(\n"
     ]
    }
   ],
   "source": [
    "# Later, if you want to load and evaluate the model without retraining\n",
    "tf_model = tf.keras.models.load_model(\"fashion_mnist_model.h5\")\n",
    "\n",
    "tf_onnx_dest_path = \".\\\\tf_model.onnx\"\n",
    "\n",
    "onnx_sess = mct.tf_to_onnx(tf_model, tf_onnx_dest_path)"
   ]
  },
  {
   "cell_type": "markdown",
   "metadata": {},
   "source": [
    "#### Running the model"
   ]
  },
  {
   "cell_type": "code",
   "execution_count": 4,
   "metadata": {},
   "outputs": [
    {
     "name": "stdout",
     "output_type": "stream",
     "text": [
      "313/313 [==============================] - 1s 2ms/step\n",
      "All predictions are consistent\n",
      "All confidence percentages are consistent\n"
     ]
    }
   ],
   "source": [
    "tf_predictions = tf_model.predict(x_test)\n",
    "results_tf_ort = mct.predictOnnx(x_test, session=onnx_sess)\n",
    "mct.checkPredictionConsistency(tf_predictions, results_tf_ort)\n",
    "mct.checkConfidenceConsistency(tf_predictions, results_tf_ort)"
   ]
  },
  {
   "cell_type": "markdown",
   "metadata": {},
   "source": [
    "### Part 2: sample pyTorch workflow"
   ]
  },
  {
   "cell_type": "markdown",
   "metadata": {},
   "source": [
    "#### creating sample pytorch model \n",
    "\n",
    "The example model is from this website: https://nextjournal.com/gkoehler/pytorch-mnist"
   ]
  },
  {
   "cell_type": "code",
   "execution_count": null,
   "metadata": {},
   "outputs": [],
   "source": [
    "import torch\n",
    "import torchvision\n",
    "import torch.optim as optim\n",
    "\n",
    "batch_size_test = 1000\n",
    "learning_rate = 0.01\n",
    "momentum = 0.5\n",
    "random_seed = 1\n",
    "torch.backends.cudnn.enabled = False\n",
    "torch.manual_seed(random_seed)\n",
    "\n",
    "test_loader = torch.utils.data.DataLoader(\n",
    "  torchvision.datasets.MNIST('/files/', train=False, download=True,\n",
    "                             transform=torchvision.transforms.Compose([\n",
    "                               torchvision.transforms.ToTensor(),\n",
    "                               torchvision.transforms.Normalize(\n",
    "                                 (0.1307,), (0.3081,))\n",
    "                             ])),\n",
    "  batch_size=batch_size_test, shuffle=True)\n",
    "\n",
    "examples = enumerate(test_loader)\n",
    "batch_idx, (example_data, example_targets) = next(examples)\n"
   ]
  },
  {
   "cell_type": "code",
   "execution_count": null,
   "metadata": {},
   "outputs": [
    {
     "name": "stdout",
     "output_type": "stream",
     "text": [
      "Train Epoch: 1 [0/60000 (0%)]\tLoss: 0.201695\n",
      "Train Epoch: 1 [640/60000 (1%)]\tLoss: 0.402293\n",
      "Train Epoch: 1 [1280/60000 (2%)]\tLoss: 0.514808\n",
      "Train Epoch: 1 [1920/60000 (3%)]\tLoss: 0.204468\n",
      "Train Epoch: 1 [2560/60000 (4%)]\tLoss: 0.443682\n",
      "Train Epoch: 1 [3200/60000 (5%)]\tLoss: 0.483486\n",
      "Train Epoch: 1 [3840/60000 (6%)]\tLoss: 0.182736\n",
      "Train Epoch: 1 [4480/60000 (7%)]\tLoss: 0.376792\n",
      "Train Epoch: 1 [5120/60000 (9%)]\tLoss: 0.436870\n",
      "Train Epoch: 1 [5760/60000 (10%)]\tLoss: 0.322312\n",
      "Train Epoch: 1 [6400/60000 (11%)]\tLoss: 0.328916\n",
      "Train Epoch: 1 [7040/60000 (12%)]\tLoss: 0.346527\n",
      "Train Epoch: 1 [7680/60000 (13%)]\tLoss: 0.353329\n",
      "Train Epoch: 1 [8320/60000 (14%)]\tLoss: 0.643490\n",
      "Train Epoch: 1 [8960/60000 (15%)]\tLoss: 0.310386\n",
      "Train Epoch: 1 [9600/60000 (16%)]\tLoss: 0.170429\n",
      "Train Epoch: 1 [10240/60000 (17%)]\tLoss: 0.542867\n",
      "Train Epoch: 1 [10880/60000 (18%)]\tLoss: 0.262466\n",
      "Train Epoch: 1 [11520/60000 (19%)]\tLoss: 0.291557\n",
      "Train Epoch: 1 [12160/60000 (20%)]\tLoss: 0.175815\n",
      "Train Epoch: 1 [12800/60000 (21%)]\tLoss: 0.280448\n",
      "Train Epoch: 1 [13440/60000 (22%)]\tLoss: 0.237583\n",
      "Train Epoch: 1 [14080/60000 (23%)]\tLoss: 0.476997\n",
      "Train Epoch: 1 [14720/60000 (25%)]\tLoss: 0.298690\n",
      "Train Epoch: 1 [15360/60000 (26%)]\tLoss: 0.455927\n",
      "Train Epoch: 1 [16000/60000 (27%)]\tLoss: 0.544582\n",
      "Train Epoch: 1 [16640/60000 (28%)]\tLoss: 0.389590\n",
      "Train Epoch: 1 [17280/60000 (29%)]\tLoss: 0.381361\n",
      "Train Epoch: 1 [17920/60000 (30%)]\tLoss: 0.529101\n",
      "Train Epoch: 1 [18560/60000 (31%)]\tLoss: 0.397620\n",
      "Train Epoch: 1 [19200/60000 (32%)]\tLoss: 0.275069\n",
      "Train Epoch: 1 [19840/60000 (33%)]\tLoss: 0.131036\n",
      "Train Epoch: 1 [20480/60000 (34%)]\tLoss: 0.313424\n",
      "Train Epoch: 1 [21120/60000 (35%)]\tLoss: 0.159157\n",
      "Train Epoch: 1 [21760/60000 (36%)]\tLoss: 0.187306\n",
      "Train Epoch: 1 [22400/60000 (37%)]\tLoss: 0.216002\n",
      "Train Epoch: 1 [23040/60000 (38%)]\tLoss: 0.205954\n",
      "Train Epoch: 1 [23680/60000 (39%)]\tLoss: 0.246680\n",
      "Train Epoch: 1 [24320/60000 (41%)]\tLoss: 0.413843\n",
      "Train Epoch: 1 [24960/60000 (42%)]\tLoss: 0.144111\n",
      "Train Epoch: 1 [25600/60000 (43%)]\tLoss: 0.283287\n",
      "Train Epoch: 1 [26240/60000 (44%)]\tLoss: 0.373115\n",
      "Train Epoch: 1 [26880/60000 (45%)]\tLoss: 0.301240\n",
      "Train Epoch: 1 [27520/60000 (46%)]\tLoss: 0.197964\n",
      "Train Epoch: 1 [28160/60000 (47%)]\tLoss: 0.236263\n",
      "Train Epoch: 1 [28800/60000 (48%)]\tLoss: 0.328294\n",
      "Train Epoch: 1 [29440/60000 (49%)]\tLoss: 0.208403\n",
      "Train Epoch: 1 [30080/60000 (50%)]\tLoss: 0.307872\n",
      "Train Epoch: 1 [30720/60000 (51%)]\tLoss: 0.238934\n",
      "Train Epoch: 1 [31360/60000 (52%)]\tLoss: 0.212886\n",
      "Train Epoch: 1 [32000/60000 (53%)]\tLoss: 0.127136\n",
      "Train Epoch: 1 [32640/60000 (54%)]\tLoss: 0.564887\n",
      "Train Epoch: 1 [33280/60000 (55%)]\tLoss: 0.333053\n",
      "Train Epoch: 1 [33920/60000 (57%)]\tLoss: 0.146245\n",
      "Train Epoch: 1 [34560/60000 (58%)]\tLoss: 0.153743\n",
      "Train Epoch: 1 [35200/60000 (59%)]\tLoss: 0.335380\n",
      "Train Epoch: 1 [35840/60000 (60%)]\tLoss: 0.273913\n",
      "Train Epoch: 1 [36480/60000 (61%)]\tLoss: 0.194380\n",
      "Train Epoch: 1 [37120/60000 (62%)]\tLoss: 0.306026\n",
      "Train Epoch: 1 [37760/60000 (63%)]\tLoss: 0.205702\n",
      "Train Epoch: 1 [38400/60000 (64%)]\tLoss: 0.411659\n",
      "Train Epoch: 1 [39040/60000 (65%)]\tLoss: 0.370080\n",
      "Train Epoch: 1 [39680/60000 (66%)]\tLoss: 0.114386\n",
      "Train Epoch: 1 [40320/60000 (67%)]\tLoss: 0.374712\n",
      "Train Epoch: 1 [40960/60000 (68%)]\tLoss: 0.429138\n",
      "Train Epoch: 1 [41600/60000 (69%)]\tLoss: 0.338773\n",
      "Train Epoch: 1 [42240/60000 (70%)]\tLoss: 0.333577\n",
      "Train Epoch: 1 [42880/60000 (71%)]\tLoss: 0.172249\n",
      "Train Epoch: 1 [43520/60000 (72%)]\tLoss: 0.172840\n",
      "Train Epoch: 1 [44160/60000 (74%)]\tLoss: 0.222220\n",
      "Train Epoch: 1 [44800/60000 (75%)]\tLoss: 0.211585\n",
      "Train Epoch: 1 [45440/60000 (76%)]\tLoss: 0.192030\n",
      "Train Epoch: 1 [46080/60000 (77%)]\tLoss: 0.394633\n",
      "Train Epoch: 1 [46720/60000 (78%)]\tLoss: 0.291842\n",
      "Train Epoch: 1 [47360/60000 (79%)]\tLoss: 0.288159\n",
      "Train Epoch: 1 [48000/60000 (80%)]\tLoss: 0.356571\n",
      "Train Epoch: 1 [48640/60000 (81%)]\tLoss: 0.411447\n",
      "Train Epoch: 1 [49280/60000 (82%)]\tLoss: 0.454328\n",
      "Train Epoch: 1 [49920/60000 (83%)]\tLoss: 0.208373\n",
      "Train Epoch: 1 [50560/60000 (84%)]\tLoss: 0.370765\n",
      "Train Epoch: 1 [51200/60000 (85%)]\tLoss: 0.288299\n",
      "Train Epoch: 1 [51840/60000 (86%)]\tLoss: 0.129866\n",
      "Train Epoch: 1 [52480/60000 (87%)]\tLoss: 0.195489\n",
      "Train Epoch: 1 [53120/60000 (88%)]\tLoss: 0.166831\n",
      "Train Epoch: 1 [53760/60000 (90%)]\tLoss: 0.101241\n",
      "Train Epoch: 1 [54400/60000 (91%)]\tLoss: 0.237279\n",
      "Train Epoch: 1 [55040/60000 (92%)]\tLoss: 0.206515\n",
      "Train Epoch: 1 [55680/60000 (93%)]\tLoss: 0.204575\n",
      "Train Epoch: 1 [56320/60000 (94%)]\tLoss: 0.352887\n",
      "Train Epoch: 1 [56960/60000 (95%)]\tLoss: 0.273244\n",
      "Train Epoch: 1 [57600/60000 (96%)]\tLoss: 0.239463\n",
      "Train Epoch: 1 [58240/60000 (97%)]\tLoss: 0.401538\n",
      "Train Epoch: 1 [58880/60000 (98%)]\tLoss: 0.140155\n",
      "Train Epoch: 1 [59520/60000 (99%)]\tLoss: 0.235840\n"
     ]
    },
    {
     "name": "stderr",
     "output_type": "stream",
     "text": [
      "c:\\Users\\Valery\\miniconda3\\envs\\cpsc330\\lib\\site-packages\\torch\\nn\\_reduction.py:42: UserWarning: size_average and reduce args will be deprecated, please use reduction='sum' instead.\n",
      "  warnings.warn(warning.format(ret))\n"
     ]
    },
    {
     "name": "stdout",
     "output_type": "stream",
     "text": [
      "\n",
      "Test set: Avg. loss: 0.0907, Accuracy: 9714/10000 (97%)\n",
      "\n"
     ]
    }
   ],
   "source": [
    "network = Net()\n",
    "optimizer = optim.SGD(network.parameters(), lr=learning_rate,\n",
    "                                momentum=momentum)\n",
    "\n",
    "for epoch in range(1,2):\n",
    "  train(epoch)\n",
    "  test()\n",
    "\n",
    "network.eval()\n",
    "torch_out_load = network(example_data)\n"
   ]
  },
  {
   "cell_type": "code",
   "execution_count": null,
   "metadata": {},
   "outputs": [
    {
     "name": "stderr",
     "output_type": "stream",
     "text": [
      "c:\\Users\\Valery\\Documents\\GitHub\\AppliedAI\\23-I-12_SysArch\\Experiments\\valery_tests\\conversion util demo\\sample_pytorch_mnist.py:62: UserWarning: Implicit dimension choice for log_softmax has been deprecated. Change the call to include dim=X as an argument.\n",
      "  return F.log_softmax(x)\n",
      "c:\\Users\\Valery\\miniconda3\\envs\\cpsc330\\lib\\site-packages\\onnxruntime\\capi\\onnxruntime_inference_collection.py:69: UserWarning: Specified provider 'CUDAExecutionProvider' is not in available provider names.Available providers: 'AzureExecutionProvider, CPUExecutionProvider'\n",
      "  warnings.warn(\n"
     ]
    }
   ],
   "source": [
    "mct.torch_to_onnx(network, example_data, \"torch_model.onnx\")\n",
    "\n",
    "ort_session = mct.loadOnnxModel(\"torch_model.onnx\")\n",
    "ort_predictions = mct.predictOnnx(example_data.numpy(), session=ort_session)\n",
    "\n",
    "ort_predictions[0][0] = 3\n"
   ]
  },
  {
   "cell_type": "code",
   "execution_count": null,
   "metadata": {},
   "outputs": [
    {
     "name": "stdout",
     "output_type": "stream",
     "text": [
      "Original: 1, ONNX: 0\n",
      "[-2.4549718 -2.1185706 -2.4687483 -2.2076657 -2.3239005 -2.2315974\n",
      " -2.2770364 -2.3017619 -2.6148717 -2.1354787], \n",
      "[ 3.        -2.1185706 -2.4687483 -2.2076654 -2.3239005 -2.2315974\n",
      " -2.2770364 -2.3017619 -2.6148717 -2.1354787]\n",
      "=====================================\n",
      "All predictions are consistent\n",
      "Original: \t [-2.4549718 -2.1185706 -2.4687483 -2.2076657 -2.3239005 -2.2315974\n",
      " -2.2770364 -2.3017619 -2.6148717 -2.1354787], \n",
      "ONNX: \t[ 3.        -2.1185706 -2.4687483 -2.2076654 -2.3239005 -2.2315974\n",
      " -2.2770364 -2.3017619 -2.6148717 -2.1354787]\n",
      "=====================================\n",
      "All confidence percentages are consistent\n"
     ]
    }
   ],
   "source": [
    "mct.checkPredictionConsistency(torch_out_load.detach().numpy(), ort_predictions)\n",
    "mct.checkConfidenceConsistency(torch_out_load.detach().numpy(), ort_predictions)"
   ]
  }
 ],
 "metadata": {
  "kernelspec": {
   "display_name": "Python 3",
   "language": "python",
   "name": "python3"
  },
  "language_info": {
   "codemirror_mode": {
    "name": "ipython",
    "version": 3
   },
   "file_extension": ".py",
   "mimetype": "text/x-python",
   "name": "python",
   "nbconvert_exporter": "python",
   "pygments_lexer": "ipython3",
   "version": "3.10.0"
  }
 },
 "nbformat": 4,
 "nbformat_minor": 2
}
